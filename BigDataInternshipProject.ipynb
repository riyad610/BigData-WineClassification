{
  "nbformat": 4,
  "nbformat_minor": 0,
  "metadata": {
    "colab": {
      "provenance": []
    },
    "kernelspec": {
      "name": "python3",
      "display_name": "Python 3"
    },
    "language_info": {
      "name": "python"
    }
  },
  "cells": [
    {
      "cell_type": "markdown",
      "source": [
        "# **Wine Classification**"
      ],
      "metadata": {
        "id": "dqZ-nhxiganh"
      }
    },
    {
      "cell_type": "markdown",
      "source": [
        "-------------"
      ],
      "metadata": {
        "id": "gScHkw6jjrLo"
      }
    },
    {
      "cell_type": "markdown",
      "source": [
        "## **Objective**"
      ],
      "metadata": {
        "id": "Xns_rCdhh-vZ"
      }
    },
    {
      "cell_type": "markdown",
      "source": [
        "The objective is to develop a classification model to classify wine into it's different types. PySpark is used to process the large-scale data. By leveraging advanced data processing techniques and machine learning algorithms, this project aims to create a model capable of accurately determining the type of wine based on relevant input features such as percentage of alcohol, malic acid, alkalinity of ash etc."
      ],
      "metadata": {
        "id": "9sPvnFM1iI9l"
      }
    },
    {
      "cell_type": "markdown",
      "source": [
        "## **Data Source**"
      ],
      "metadata": {
        "id": "-Vbnt9CciKJP"
      }
    },
    {
      "cell_type": "markdown",
      "source": [
        "https://github.com/YBIFoundation/Dataset/raw/main/Wine.csv"
      ],
      "metadata": {
        "id": "sGcv5WqQiNyl"
      }
    },
    {
      "cell_type": "code",
      "source": [
        "!pip install pyspark"
      ],
      "metadata": {
        "colab": {
          "base_uri": "https://localhost:8080/"
        },
        "id": "r8npXmoi-wRE",
        "outputId": "55577dbb-99f7-4a9d-b55d-cd1ec1f1ee45"
      },
      "execution_count": null,
      "outputs": [
        {
          "output_type": "stream",
          "name": "stdout",
          "text": [
            "Collecting pyspark\n",
            "  Downloading pyspark-3.4.1.tar.gz (310.8 MB)\n",
            "\u001b[2K     \u001b[90m━━━━━━━━━━━━━━━━━━━━━━━━━━━━━━━━━━━━━━━\u001b[0m \u001b[32m310.8/310.8 MB\u001b[0m \u001b[31m2.5 MB/s\u001b[0m eta \u001b[36m0:00:00\u001b[0m\n",
            "\u001b[?25h  Preparing metadata (setup.py) ... \u001b[?25l\u001b[?25hdone\n",
            "Requirement already satisfied: py4j==0.10.9.7 in /usr/local/lib/python3.10/dist-packages (from pyspark) (0.10.9.7)\n",
            "Building wheels for collected packages: pyspark\n",
            "  Building wheel for pyspark (setup.py) ... \u001b[?25l\u001b[?25hdone\n",
            "  Created wheel for pyspark: filename=pyspark-3.4.1-py2.py3-none-any.whl size=311285387 sha256=e118e279eb0c39a96da0150a5239adcd5ce22572ce1fa2340e6574945a6c2e8b\n",
            "  Stored in directory: /root/.cache/pip/wheels/0d/77/a3/ff2f74cc9ab41f8f594dabf0579c2a7c6de920d584206e0834\n",
            "Successfully built pyspark\n",
            "Installing collected packages: pyspark\n",
            "Successfully installed pyspark-3.4.1\n"
          ]
        }
      ]
    },
    {
      "cell_type": "markdown",
      "source": [
        "## **Import Library**"
      ],
      "metadata": {
        "id": "r7GrZzX0iTlV"
      }
    },
    {
      "cell_type": "code",
      "source": [
        "import pandas as pd\n",
        "import numpy as np\n",
        "import matplotlib.pyplot as plt\n",
        "import seaborn as sns\n",
        "import pyspark"
      ],
      "metadata": {
        "id": "UkK6NH9DiW-X"
      },
      "execution_count": null,
      "outputs": []
    },
    {
      "cell_type": "code",
      "source": [
        "from pyspark.sql import SparkSession\n",
        "spark = SparkSession.builder.master('local[*]').getOrCreate()"
      ],
      "metadata": {
        "id": "g-CuKdcs_Ua6"
      },
      "execution_count": null,
      "outputs": []
    },
    {
      "cell_type": "code",
      "source": [
        "spark"
      ],
      "metadata": {
        "colab": {
          "base_uri": "https://localhost:8080/",
          "height": 219
        },
        "id": "XIS9uuJD_ccW",
        "outputId": "3cc40d59-c5d9-4919-8adb-395190ba8c8e"
      },
      "execution_count": null,
      "outputs": [
        {
          "output_type": "execute_result",
          "data": {
            "text/plain": [
              "<pyspark.sql.session.SparkSession at 0x7bc5b5cde440>"
            ],
            "text/html": [
              "\n",
              "            <div>\n",
              "                <p><b>SparkSession - in-memory</b></p>\n",
              "                \n",
              "        <div>\n",
              "            <p><b>SparkContext</b></p>\n",
              "\n",
              "            <p><a href=\"http://8a5a37324737:4040\">Spark UI</a></p>\n",
              "\n",
              "            <dl>\n",
              "              <dt>Version</dt>\n",
              "                <dd><code>v3.4.1</code></dd>\n",
              "              <dt>Master</dt>\n",
              "                <dd><code>local[*]</code></dd>\n",
              "              <dt>AppName</dt>\n",
              "                <dd><code>pyspark-shell</code></dd>\n",
              "            </dl>\n",
              "        </div>\n",
              "        \n",
              "            </div>\n",
              "        "
            ]
          },
          "metadata": {},
          "execution_count": 6
        }
      ]
    },
    {
      "cell_type": "markdown",
      "source": [
        "## **Import Data**"
      ],
      "metadata": {
        "id": "9lHPQj1XiOUc"
      }
    },
    {
      "cell_type": "code",
      "source": [
        "df = pd.read_csv('https://github.com/YBIFoundation/Dataset/raw/main/Wine.csv')\n",
        "spdf = spark.createDataFrame(df)"
      ],
      "metadata": {
        "id": "zcU1fdnGho6M"
      },
      "execution_count": null,
      "outputs": []
    },
    {
      "cell_type": "code",
      "source": [
        "spdf"
      ],
      "metadata": {
        "colab": {
          "base_uri": "https://localhost:8080/"
        },
        "id": "iCgzhrYD_6QH",
        "outputId": "d343d02b-d391-402b-e52e-51c397dc557f"
      },
      "execution_count": null,
      "outputs": [
        {
          "output_type": "execute_result",
          "data": {
            "text/plain": [
              "DataFrame[class_label: bigint, class_name: string, alcohol: double, malic_acid: double, ash: double, alcalinity_of_ash: double, magnesium: bigint, total_phenols: double, flavanoids: double, nonflavanoid_phenols: double, proanthocyanins: double, color_intensity: double, hue: double, od280: double, proline: bigint]"
            ]
          },
          "metadata": {},
          "execution_count": 8
        }
      ]
    },
    {
      "cell_type": "code",
      "source": [
        "spdf.printSchema()"
      ],
      "metadata": {
        "colab": {
          "base_uri": "https://localhost:8080/"
        },
        "id": "mlyS0sdABF-W",
        "outputId": "681d2a73-7540-427b-f2d9-8a68ec0a22ae"
      },
      "execution_count": null,
      "outputs": [
        {
          "output_type": "stream",
          "name": "stdout",
          "text": [
            "root\n",
            " |-- class_label: long (nullable = true)\n",
            " |-- class_name: string (nullable = true)\n",
            " |-- alcohol: double (nullable = true)\n",
            " |-- malic_acid: double (nullable = true)\n",
            " |-- ash: double (nullable = true)\n",
            " |-- alcalinity_of_ash: double (nullable = true)\n",
            " |-- magnesium: long (nullable = true)\n",
            " |-- total_phenols: double (nullable = true)\n",
            " |-- flavanoids: double (nullable = true)\n",
            " |-- nonflavanoid_phenols: double (nullable = true)\n",
            " |-- proanthocyanins: double (nullable = true)\n",
            " |-- color_intensity: double (nullable = true)\n",
            " |-- hue: double (nullable = true)\n",
            " |-- od280: double (nullable = true)\n",
            " |-- proline: long (nullable = true)\n",
            "\n"
          ]
        }
      ]
    },
    {
      "cell_type": "code",
      "source": [
        "spdf.show()"
      ],
      "metadata": {
        "colab": {
          "base_uri": "https://localhost:8080/"
        },
        "id": "QEnrC2YABN4A",
        "outputId": "bd9857ba-036f-4849-be08-81e0ad267f1c"
      },
      "execution_count": null,
      "outputs": [
        {
          "output_type": "stream",
          "name": "stdout",
          "text": [
            "+-----------+----------+-------+----------+----+-----------------+---------+-------------+----------+--------------------+---------------+---------------+----+-----+-------+\n",
            "|class_label|class_name|alcohol|malic_acid| ash|alcalinity_of_ash|magnesium|total_phenols|flavanoids|nonflavanoid_phenols|proanthocyanins|color_intensity| hue|od280|proline|\n",
            "+-----------+----------+-------+----------+----+-----------------+---------+-------------+----------+--------------------+---------------+---------------+----+-----+-------+\n",
            "|          1|    Barolo|  14.23|      1.71|2.43|             15.6|      127|          2.8|      3.06|                0.28|           2.29|           5.64|1.04| 3.92|   1065|\n",
            "|          1|    Barolo|   13.2|      1.78|2.14|             11.2|      100|         2.65|      2.76|                0.26|           1.28|           4.38|1.05|  3.4|   1050|\n",
            "|          1|    Barolo|  13.16|      2.36|2.67|             18.6|      101|          2.8|      3.24|                 0.3|           2.81|           5.68|1.03| 3.17|   1185|\n",
            "|          1|    Barolo|  14.37|      1.95| 2.5|             16.8|      113|         3.85|      3.49|                0.24|           2.18|            7.8|0.86| 3.45|   1480|\n",
            "|          1|    Barolo|  13.24|      2.59|2.87|             21.0|      118|          2.8|      2.69|                0.39|           1.82|           4.32|1.04| 2.93|    735|\n",
            "|          1|    Barolo|   14.2|      1.76|2.45|             15.2|      112|         3.27|      3.39|                0.34|           1.97|           6.75|1.05| 2.85|   1450|\n",
            "|          1|    Barolo|  14.39|      1.87|2.45|             14.6|       96|          2.5|      2.52|                 0.3|           1.98|           5.25|1.02| 3.58|   1290|\n",
            "|          1|    Barolo|  14.06|      2.15|2.61|             17.6|      121|          2.6|      2.51|                0.31|           1.25|           5.05|1.06| 3.58|   1295|\n",
            "|          1|    Barolo|  14.83|      1.64|2.17|             14.0|       97|          2.8|      2.98|                0.29|           1.98|            5.2|1.08| 2.85|   1045|\n",
            "|          1|    Barolo|  13.86|      1.35|2.27|             16.0|       98|         2.98|      3.15|                0.22|           1.85|           7.22|1.01| 3.55|   1045|\n",
            "|          1|    Barolo|   14.1|      2.16| 2.3|             18.0|      105|         2.95|      3.32|                0.22|           2.38|           5.75|1.25| 3.17|   1510|\n",
            "|          1|    Barolo|  14.12|      1.48|2.32|             16.8|       95|          2.2|      2.43|                0.26|           1.57|            5.0|1.17| 2.82|   1280|\n",
            "|          1|    Barolo|  13.75|      1.73|2.41|             16.0|       89|          2.6|      2.76|                0.29|           1.81|            5.6|1.15|  2.9|   1320|\n",
            "|          1|    Barolo|  14.75|      1.73|2.39|             11.4|       91|          3.1|      3.69|                0.43|           2.81|            5.4|1.25| 2.73|   1150|\n",
            "|          1|    Barolo|  14.38|      1.87|2.38|             12.0|      102|          3.3|      3.64|                0.29|           2.96|            7.5| 1.2|  3.0|   1547|\n",
            "|          1|    Barolo|  13.63|      1.81| 2.7|             17.2|      112|         2.85|      2.91|                 0.3|           1.46|            7.3|1.28| 2.88|   1310|\n",
            "|          1|    Barolo|   14.3|      1.92|2.72|             20.0|      120|          2.8|      3.14|                0.33|           1.97|            6.2|1.07| 2.65|   1280|\n",
            "|          1|    Barolo|  13.83|      1.57|2.62|             20.0|      115|         2.95|       3.4|                 0.4|           1.72|            6.6|1.13| 2.57|   1130|\n",
            "|          1|    Barolo|  14.19|      1.59|2.48|             16.5|      108|          3.3|      3.93|                0.32|           1.86|            8.7|1.23| 2.82|   1680|\n",
            "|          1|    Barolo|  13.64|       3.1|2.56|             15.2|      116|          2.7|      3.03|                0.17|           1.66|            5.1|0.96| 3.36|    845|\n",
            "+-----------+----------+-------+----------+----+-----------------+---------+-------------+----------+--------------------+---------------+---------------+----+-----+-------+\n",
            "only showing top 20 rows\n",
            "\n"
          ]
        }
      ]
    },
    {
      "cell_type": "markdown",
      "source": [
        "## **Describe Data**"
      ],
      "metadata": {
        "id": "7PUnimBoiX-x"
      }
    },
    {
      "cell_type": "code",
      "source": [
        "spdf.describe().show()"
      ],
      "metadata": {
        "id": "kG15arusiZ8Z",
        "colab": {
          "base_uri": "https://localhost:8080/"
        },
        "outputId": "cc39dddd-41b0-4d07-a458-e6766774a59d"
      },
      "execution_count": null,
      "outputs": [
        {
          "output_type": "stream",
          "name": "stdout",
          "text": [
            "+-------+------------------+----------+------------------+------------------+------------------+------------------+-----------------+------------------+------------------+--------------------+------------------+------------------+-------------------+------------------+------------------+\n",
            "|summary|       class_label|class_name|           alcohol|        malic_acid|               ash| alcalinity_of_ash|        magnesium|     total_phenols|        flavanoids|nonflavanoid_phenols|   proanthocyanins|   color_intensity|                hue|             od280|           proline|\n",
            "+-------+------------------+----------+------------------+------------------+------------------+------------------+-----------------+------------------+------------------+--------------------+------------------+------------------+-------------------+------------------+------------------+\n",
            "|  count|               178|       178|               178|               178|               178|               178|              178|               178|               178|                 178|               178|               178|                178|               178|               178|\n",
            "|   mean|1.9382022471910112|      null|13.000617977528092|2.3363483146067408|2.3665168539325845|19.494943820224716|99.74157303370787| 2.295112359550562|2.0292696629213487|  0.3618539325842696|1.5908988764044945| 5.058089882022472| 0.9574494382022471|2.6116853932584276| 746.8932584269663|\n",
            "| stddev|0.7750349899850565|      null|0.8118265380058592|1.1171460976144625|0.2743440090608147| 3.339563767173507|14.28248351529566|0.6258510488339889|0.9988586850169472|  0.1244533402966794|0.5723588626747611|2.3182858718224124|0.22857156582982352|0.7099904287650503|314.90747427684926|\n",
            "|    min|                 1|   Barbera|             11.03|              0.74|              1.36|              10.6|               70|              0.98|              0.34|                0.13|              0.41|              1.28|               0.48|              1.27|               278|\n",
            "|    max|                 3|Grignolino|             14.83|               5.8|              3.23|              30.0|              162|              3.88|              5.08|                0.66|              3.58|              13.0|               1.71|               4.0|              1680|\n",
            "+-------+------------------+----------+------------------+------------------+------------------+------------------+-----------------+------------------+------------------+--------------------+------------------+------------------+-------------------+------------------+------------------+\n",
            "\n"
          ]
        }
      ]
    },
    {
      "cell_type": "markdown",
      "source": [
        "## **Data Preprocessing**"
      ],
      "metadata": {
        "id": "UqfyPOCYiiww"
      }
    },
    {
      "cell_type": "code",
      "source": [
        "spdf.columns"
      ],
      "metadata": {
        "id": "3cyr3fbGin0A",
        "colab": {
          "base_uri": "https://localhost:8080/"
        },
        "outputId": "9ae61c70-342e-4826-d190-e2836712192a"
      },
      "execution_count": null,
      "outputs": [
        {
          "output_type": "execute_result",
          "data": {
            "text/plain": [
              "['class_label',\n",
              " 'class_name',\n",
              " 'alcohol',\n",
              " 'malic_acid',\n",
              " 'ash',\n",
              " 'alcalinity_of_ash',\n",
              " 'magnesium',\n",
              " 'total_phenols',\n",
              " 'flavanoids',\n",
              " 'nonflavanoid_phenols',\n",
              " 'proanthocyanins',\n",
              " 'color_intensity',\n",
              " 'hue',\n",
              " 'od280',\n",
              " 'proline']"
            ]
          },
          "metadata": {},
          "execution_count": 12
        }
      ]
    },
    {
      "cell_type": "code",
      "source": [
        "from pyspark.ml.feature import VectorAssembler"
      ],
      "metadata": {
        "id": "vMtdWPwvDvdr"
      },
      "execution_count": null,
      "outputs": []
    },
    {
      "cell_type": "code",
      "source": [
        "featureassembler = VectorAssembler(inputCols=['alcohol',\n",
        " 'malic_acid',\n",
        " 'ash',\n",
        " 'alcalinity_of_ash',\n",
        " 'magnesium',\n",
        " 'total_phenols',\n",
        " 'flavanoids',\n",
        " 'nonflavanoid_phenols',\n",
        " 'proanthocyanins',\n",
        " 'color_intensity',\n",
        " 'hue',\n",
        " 'od280',\n",
        " 'proline'], outputCol='Features')\n",
        "\n",
        "featureassembler"
      ],
      "metadata": {
        "colab": {
          "base_uri": "https://localhost:8080/"
        },
        "id": "udtnhsuZD28y",
        "outputId": "430670f4-a1eb-4088-f5c0-554ecb447149"
      },
      "execution_count": null,
      "outputs": [
        {
          "output_type": "execute_result",
          "data": {
            "text/plain": [
              "VectorAssembler_8b7e7f215bc0"
            ]
          },
          "metadata": {},
          "execution_count": 14
        }
      ]
    },
    {
      "cell_type": "markdown",
      "source": [
        "## **Define Target Variable (y) and Feature Variables (X)**"
      ],
      "metadata": {
        "id": "2jXJpdAuiwYW"
      }
    },
    {
      "cell_type": "code",
      "source": [
        "modeldata = featureassembler.transform(spdf).select('Features','class_label')\n",
        "modeldata.show()"
      ],
      "metadata": {
        "colab": {
          "base_uri": "https://localhost:8080/"
        },
        "id": "w9687eTDEb34",
        "outputId": "3962ddd1-2c16-4b97-b045-299bf22af9cd"
      },
      "execution_count": null,
      "outputs": [
        {
          "output_type": "stream",
          "name": "stdout",
          "text": [
            "+--------------------+-----------+\n",
            "|            Features|class_label|\n",
            "+--------------------+-----------+\n",
            "|[14.23,1.71,2.43,...|          1|\n",
            "|[13.2,1.78,2.14,1...|          1|\n",
            "|[13.16,2.36,2.67,...|          1|\n",
            "|[14.37,1.95,2.5,1...|          1|\n",
            "|[13.24,2.59,2.87,...|          1|\n",
            "|[14.2,1.76,2.45,1...|          1|\n",
            "|[14.39,1.87,2.45,...|          1|\n",
            "|[14.06,2.15,2.61,...|          1|\n",
            "|[14.83,1.64,2.17,...|          1|\n",
            "|[13.86,1.35,2.27,...|          1|\n",
            "|[14.1,2.16,2.3,18...|          1|\n",
            "|[14.12,1.48,2.32,...|          1|\n",
            "|[13.75,1.73,2.41,...|          1|\n",
            "|[14.75,1.73,2.39,...|          1|\n",
            "|[14.38,1.87,2.38,...|          1|\n",
            "|[13.63,1.81,2.7,1...|          1|\n",
            "|[14.3,1.92,2.72,2...|          1|\n",
            "|[13.83,1.57,2.62,...|          1|\n",
            "|[14.19,1.59,2.48,...|          1|\n",
            "|[13.64,3.1,2.56,1...|          1|\n",
            "+--------------------+-----------+\n",
            "only showing top 20 rows\n",
            "\n"
          ]
        }
      ]
    },
    {
      "cell_type": "markdown",
      "source": [
        "## **Train Test Split**"
      ],
      "metadata": {
        "id": "90_0q_Pbi658"
      }
    },
    {
      "cell_type": "code",
      "source": [
        "train_data, test_data = modeldata.randomSplit([0.8,0.2])"
      ],
      "metadata": {
        "id": "u60YYaOFi-Dw"
      },
      "execution_count": null,
      "outputs": []
    },
    {
      "cell_type": "markdown",
      "source": [
        "## **Modelling**"
      ],
      "metadata": {
        "id": "cIhyseNria7W"
      }
    },
    {
      "cell_type": "code",
      "source": [
        "from pyspark.ml.classification import DecisionTreeClassifier"
      ],
      "metadata": {
        "id": "imPFBeKeXvhY"
      },
      "execution_count": null,
      "outputs": []
    },
    {
      "cell_type": "code",
      "source": [
        "dt = DecisionTreeClassifier(featuresCol='Features',labelCol='class_label')"
      ],
      "metadata": {
        "id": "HczZTrFNXvd-"
      },
      "execution_count": null,
      "outputs": []
    },
    {
      "cell_type": "code",
      "source": [
        "dt = dt.fit(train_data)"
      ],
      "metadata": {
        "id": "aeBE9gV7Xvbj"
      },
      "execution_count": null,
      "outputs": []
    },
    {
      "cell_type": "markdown",
      "source": [
        "##**Prediction**"
      ],
      "metadata": {
        "id": "NwR7miUBf5b5"
      }
    },
    {
      "cell_type": "code",
      "source": [
        "y_pred = dt.transform(test_data)"
      ],
      "metadata": {
        "id": "TMLvZAauXvYx"
      },
      "execution_count": null,
      "outputs": []
    },
    {
      "cell_type": "code",
      "source": [
        "y_pred.show()"
      ],
      "metadata": {
        "colab": {
          "base_uri": "https://localhost:8080/"
        },
        "id": "-x-MqgU9XvVf",
        "outputId": "1cd21693-a7df-4ed7-d2ab-12eae94f4669"
      },
      "execution_count": null,
      "outputs": [
        {
          "output_type": "stream",
          "name": "stdout",
          "text": [
            "+--------------------+-----------+------------------+-----------------+----------+\n",
            "|            Features|class_label|     rawPrediction|      probability|prediction|\n",
            "+--------------------+-----------+------------------+-----------------+----------+\n",
            "|[11.65,1.67,2.62,...|          2|[0.0,0.0,47.0,0.0]|[0.0,0.0,1.0,0.0]|       2.0|\n",
            "|[11.84,0.89,2.58,...|          2|[0.0,0.0,47.0,0.0]|[0.0,0.0,1.0,0.0]|       2.0|\n",
            "|[12.17,1.45,2.53,...|          2|[0.0,0.0,47.0,0.0]|[0.0,0.0,1.0,0.0]|       2.0|\n",
            "|[12.33,1.1,2.28,1...|          2| [0.0,0.0,2.0,0.0]|[0.0,0.0,1.0,0.0]|       2.0|\n",
            "|[12.64,1.36,2.02,...|          2|[0.0,0.0,0.0,29.0]|[0.0,0.0,0.0,1.0]|       3.0|\n",
            "|[12.67,0.98,2.24,...|          2|[0.0,0.0,47.0,0.0]|[0.0,0.0,1.0,0.0]|       2.0|\n",
            "|[13.29,1.97,2.68,...|          1|[0.0,52.0,0.0,0.0]|[0.0,1.0,0.0,0.0]|       1.0|\n",
            "|[13.34,0.94,2.36,...|          2| [0.0,0.0,0.0,1.0]|[0.0,0.0,0.0,1.0]|       3.0|\n",
            "|[13.41,3.84,2.12,...|          1|[0.0,52.0,0.0,0.0]|[0.0,1.0,0.0,0.0]|       1.0|\n",
            "|[14.06,1.63,2.28,...|          1|[0.0,52.0,0.0,0.0]|[0.0,1.0,0.0,0.0]|       1.0|\n",
            "|[14.22,1.7,2.3,16...|          1|[0.0,52.0,0.0,0.0]|[0.0,1.0,0.0,0.0]|       1.0|\n",
            "|[14.38,3.59,2.28,...|          1|[0.0,52.0,0.0,0.0]|[0.0,1.0,0.0,0.0]|       1.0|\n",
            "|[11.87,4.31,2.39,...|          2|[0.0,0.0,47.0,0.0]|[0.0,0.0,1.0,0.0]|       2.0|\n",
            "|[12.0,1.51,2.42,2...|          2|[0.0,0.0,47.0,0.0]|[0.0,0.0,1.0,0.0]|       2.0|\n",
            "|[12.0,3.43,2.0,19...|          2|[0.0,0.0,47.0,0.0]|[0.0,0.0,1.0,0.0]|       2.0|\n",
            "|[12.08,1.83,2.32,...|          2|[0.0,0.0,47.0,0.0]|[0.0,0.0,1.0,0.0]|       2.0|\n",
            "|[12.2,3.03,2.32,1...|          3|[0.0,0.0,0.0,29.0]|[0.0,0.0,0.0,1.0]|       3.0|\n",
            "|[12.22,1.29,1.94,...|          2|[0.0,0.0,47.0,0.0]|[0.0,0.0,1.0,0.0]|       2.0|\n",
            "|[12.25,4.72,2.54,...|          3| [0.0,0.0,2.0,0.0]|[0.0,0.0,1.0,0.0]|       2.0|\n",
            "|[12.37,1.07,2.1,1...|          2|[0.0,0.0,47.0,0.0]|[0.0,0.0,1.0,0.0]|       2.0|\n",
            "+--------------------+-----------+------------------+-----------------+----------+\n",
            "only showing top 20 rows\n",
            "\n"
          ]
        }
      ]
    },
    {
      "cell_type": "code",
      "source": [
        "y_pred.groupBy('class_label','prediction').count().show()"
      ],
      "metadata": {
        "colab": {
          "base_uri": "https://localhost:8080/"
        },
        "id": "dXBzVAHKXvSA",
        "outputId": "b3534c5a-0bee-40ff-c94a-ad1b7b34d729"
      },
      "execution_count": null,
      "outputs": [
        {
          "output_type": "stream",
          "name": "stdout",
          "text": [
            "+-----------+----------+-----+\n",
            "|class_label|prediction|count|\n",
            "+-----------+----------+-----+\n",
            "|          2|       2.0|   13|\n",
            "|          1|       1.0|    5|\n",
            "|          2|       3.0|    2|\n",
            "|          3|       2.0|    2|\n",
            "|          3|       3.0|   10|\n",
            "|          2|       1.0|    1|\n",
            "+-----------+----------+-----+\n",
            "\n"
          ]
        }
      ]
    },
    {
      "cell_type": "code",
      "source": [
        "from sklearn.metrics import confusion_matrix"
      ],
      "metadata": {
        "id": "fhVFCV11bKkB"
      },
      "execution_count": null,
      "outputs": []
    },
    {
      "cell_type": "code",
      "source": [
        "org = y_pred.select('class_label').collect()\n",
        "pred = y_pred.select('prediction').collect()"
      ],
      "metadata": {
        "id": "R3QRHlhJXvOo"
      },
      "execution_count": null,
      "outputs": []
    },
    {
      "cell_type": "code",
      "source": [
        "cm = confusion_matrix(org,pred)\n",
        "cm"
      ],
      "metadata": {
        "colab": {
          "base_uri": "https://localhost:8080/"
        },
        "id": "Zw6_ssCNXvAf",
        "outputId": "36b52d94-b3fa-4ea4-f654-a2ed78766022"
      },
      "execution_count": null,
      "outputs": [
        {
          "output_type": "execute_result",
          "data": {
            "text/plain": [
              "array([[ 5,  0,  0],\n",
              "       [ 1, 13,  2],\n",
              "       [ 0,  2, 10]])"
            ]
          },
          "metadata": {},
          "execution_count": 45
        }
      ]
    },
    {
      "cell_type": "markdown",
      "source": [
        "## **Model Evaluation**\n"
      ],
      "metadata": {
        "id": "ogTIAR1fcgQ9"
      }
    },
    {
      "cell_type": "code",
      "source": [
        "from pyspark.ml.evaluation import MulticlassClassificationEvaluator"
      ],
      "metadata": {
        "id": "e12tIZt1cG0j"
      },
      "execution_count": null,
      "outputs": []
    },
    {
      "cell_type": "code",
      "source": [
        "evaluator = MulticlassClassificationEvaluator(labelCol='class_label',predictionCol='prediction',metricName = 'weightedPrecision')"
      ],
      "metadata": {
        "id": "IlFPjbaRcGxC"
      },
      "execution_count": null,
      "outputs": []
    },
    {
      "cell_type": "code",
      "source": [
        "accuracy = evaluator.evaluate(y_pred)"
      ],
      "metadata": {
        "id": "SRwHLcf5cGuS"
      },
      "execution_count": null,
      "outputs": []
    },
    {
      "cell_type": "code",
      "source": [
        "accuracy"
      ],
      "metadata": {
        "colab": {
          "base_uri": "https://localhost:8080/"
        },
        "id": "aiHY8FpZcGjX",
        "outputId": "8c1b8027-18db-46d5-cf1a-153b94c4b072"
      },
      "execution_count": null,
      "outputs": [
        {
          "output_type": "execute_result",
          "data": {
            "text/plain": [
              "0.8494949494949495"
            ]
          },
          "metadata": {},
          "execution_count": 49
        }
      ]
    },
    {
      "cell_type": "code",
      "source": [
        "spark.stop()"
      ],
      "metadata": {
        "id": "W9YO70lwlPI3"
      },
      "execution_count": null,
      "outputs": []
    },
    {
      "cell_type": "markdown",
      "source": [
        "## **Explanation**"
      ],
      "metadata": {
        "id": "SBo38CJZjlEX"
      }
    },
    {
      "cell_type": "markdown",
      "source": [
        "A classification model is trained using 80% of the initial data and tested on the remaining 20% of the data. The confusion matrix and the accuracy measure help us evaluate the performance of the model. The accuracy of the classification model is about 85%. It has classified the wine into types - Barolo, Grignolino and Barbera where each type corresponds to class labels 1,2 and 3 respectively."
      ],
      "metadata": {
        "id": "Ybi8FR9Kjv00"
      }
    }
  ]
}